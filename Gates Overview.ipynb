{
 "cells": [
  {
   "cell_type": "code",
   "execution_count": 10,
   "metadata": {},
   "outputs": [],
   "source": [
    "from qiskit import QuantumCircuit, ClassicalRegister, QuantumRegister\n",
    "import qiskit\n",
    "import numpy as np\n",
    "\n",
    "q = QuantumRegister(1,'q')\n",
    "c = ClassicalRegister(1,'c')\n",
    "\n",
    "q2 = QuantumRegister(2,'q2')\n",
    "q3 = QuantumRegister(3,'q3')"
   ]
  },
  {
   "cell_type": "code",
   "execution_count": 2,
   "metadata": {},
   "outputs": [
    {
     "data": {
      "text/html": [
       "<pre style=\"word-wrap: normal;white-space: pre;line-height: 15px;\">        ┌───┐\n",
       "q_0: |0>┤ H ├\n",
       "        └───┘\n",
       " c_0: 0 ═════\n",
       "             </pre>"
      ],
      "text/plain": [
       "<qiskit.visualization.text.TextDrawing at 0x7fd9837d16d8>"
      ]
     },
     "execution_count": 2,
     "metadata": {},
     "output_type": "execute_result"
    }
   ],
   "source": [
    "# H gate\n",
    "H_circ = QuantumCircuit(q,c) \n",
    "H_circ.h(q[0])\n",
    "\n",
    "H_circ.draw()"
   ]
  },
  {
   "cell_type": "code",
   "execution_count": 3,
   "metadata": {},
   "outputs": [
    {
     "data": {
      "text/html": [
       "<pre style=\"word-wrap: normal;white-space: pre;line-height: 15px;\">              \n",
       "q2_0: |0>──■──\n",
       "         ┌─┴─┐\n",
       "q2_1: |0>┤ X ├\n",
       "         └───┘\n",
       "  c_0: 0 ═════\n",
       "              </pre>"
      ],
      "text/plain": [
       "<qiskit.visualization.text.TextDrawing at 0x7fd9837d7630>"
      ]
     },
     "execution_count": 3,
     "metadata": {},
     "output_type": "execute_result"
    }
   ],
   "source": [
    "# CX gate\n",
    "CX_circ = QuantumCircuit(q2,c) \n",
    "CX_circ.cx(q2[0],q2[1])\n",
    "\n",
    "CX_circ.draw()"
   ]
  },
  {
   "cell_type": "code",
   "execution_count": 4,
   "metadata": {},
   "outputs": [
    {
     "data": {
      "text/html": [
       "<pre style=\"word-wrap: normal;white-space: pre;line-height: 15px;\">        ┌────┐\n",
       "q_0: |0>┤ Id ├\n",
       "        └────┘\n",
       " c_0: 0 ══════\n",
       "              </pre>"
      ],
      "text/plain": [
       "<qiskit.visualization.text.TextDrawing at 0x7fd9837d77b8>"
      ]
     },
     "execution_count": 4,
     "metadata": {},
     "output_type": "execute_result"
    }
   ],
   "source": [
    "# Id gate\n",
    "Id_circ = QuantumCircuit(q,c) \n",
    "Id_circ.iden(q[0])\n",
    "\n",
    "Id_circ.draw()"
   ]
  },
  {
   "cell_type": "code",
   "execution_count": 42,
   "metadata": {},
   "outputs": [
    {
     "data": {
      "text/html": [
       "<pre style=\"word-wrap: normal;white-space: pre;line-height: 15px;\">        ┌────────────┐\n",
       "q_0: |0>┤ Rx(3.1416) ├\n",
       "        └────────────┘\n",
       " c_0: 0 ══════════════\n",
       "                      </pre>"
      ],
      "text/plain": [
       "<qiskit.visualization.text.TextDrawing at 0x7fd98289e630>"
      ]
     },
     "execution_count": 42,
     "metadata": {},
     "output_type": "execute_result"
    }
   ],
   "source": [
    "# Rx gate\n",
    "Rx_circ = QuantumCircuit(q,c) \n",
    "Rx_circ.rx(np.pi,q[0])\n",
    "\n",
    "Rx_circ.draw()"
   ]
  },
  {
   "cell_type": "code",
   "execution_count": 43,
   "metadata": {},
   "outputs": [
    {
     "data": {
      "text/html": [
       "<pre style=\"word-wrap: normal;white-space: pre;line-height: 15px;\">        ┌────────────┐\n",
       "q_0: |0>┤ Ry(3.1416) ├\n",
       "        └────────────┘\n",
       " c_0: 0 ══════════════\n",
       "                      </pre>"
      ],
      "text/plain": [
       "<qiskit.visualization.text.TextDrawing at 0x7fd98289e240>"
      ]
     },
     "execution_count": 43,
     "metadata": {},
     "output_type": "execute_result"
    }
   ],
   "source": [
    "# Ry gate\n",
    "Ry_circ = QuantumCircuit(q,c) \n",
    "Ry_circ.ry(np.pi,q[0])\n",
    "\n",
    "Ry_circ.draw()"
   ]
  },
  {
   "cell_type": "code",
   "execution_count": 44,
   "metadata": {},
   "outputs": [
    {
     "data": {
      "text/html": [
       "<pre style=\"word-wrap: normal;white-space: pre;line-height: 15px;\">        ┌────────────┐\n",
       "q_0: |0>┤ Rz(3.1416) ├\n",
       "        └────────────┘\n",
       " c_0: 0 ══════════════\n",
       "                      </pre>"
      ],
      "text/plain": [
       "<qiskit.visualization.text.TextDrawing at 0x7fd9828a69b0>"
      ]
     },
     "execution_count": 44,
     "metadata": {},
     "output_type": "execute_result"
    }
   ],
   "source": [
    "# Rz gate\n",
    "Rz_circ = QuantumCircuit(q,c) \n",
    "Rz_circ.rz(np.pi,q[0])\n",
    "\n",
    "Rz_circ.draw()"
   ]
  },
  {
   "cell_type": "code",
   "execution_count": 16,
   "metadata": {},
   "outputs": [
    {
     "data": {
      "text/html": [
       "<pre style=\"word-wrap: normal;white-space: pre;line-height: 15px;\">        ┌───┐\n",
       "q_0: |0>┤ X ├\n",
       "        └───┘\n",
       " c_0: 0 ═════\n",
       "             </pre>"
      ],
      "text/plain": [
       "<qiskit.visualization.text.TextDrawing at 0x7fd982e85198>"
      ]
     },
     "execution_count": 16,
     "metadata": {},
     "output_type": "execute_result"
    }
   ],
   "source": [
    "# X gate\n",
    "X_circ = QuantumCircuit(q,c) \n",
    "X_circ.x(q[0])\n",
    "\n",
    "X_circ.draw()"
   ]
  },
  {
   "cell_type": "code",
   "execution_count": 17,
   "metadata": {},
   "outputs": [
    {
     "data": {
      "text/html": [
       "<pre style=\"word-wrap: normal;white-space: pre;line-height: 15px;\">        ┌───┐\n",
       "q_0: |0>┤ Y ├\n",
       "        └───┘\n",
       " c_0: 0 ═════\n",
       "             </pre>"
      ],
      "text/plain": [
       "<qiskit.visualization.text.TextDrawing at 0x7fd982e851d0>"
      ]
     },
     "execution_count": 17,
     "metadata": {},
     "output_type": "execute_result"
    }
   ],
   "source": [
    "# Y gate\n",
    "Y_circ = QuantumCircuit(q,c) \n",
    "Y_circ.y(q[0])\n",
    "\n",
    "Y_circ.draw()"
   ]
  },
  {
   "cell_type": "code",
   "execution_count": 18,
   "metadata": {},
   "outputs": [
    {
     "data": {
      "text/html": [
       "<pre style=\"word-wrap: normal;white-space: pre;line-height: 15px;\">        ┌───┐\n",
       "q_0: |0>┤ Z ├\n",
       "        └───┘\n",
       " c_0: 0 ═════\n",
       "             </pre>"
      ],
      "text/plain": [
       "<qiskit.visualization.text.TextDrawing at 0x7fd982e850f0>"
      ]
     },
     "execution_count": 18,
     "metadata": {},
     "output_type": "execute_result"
    }
   ],
   "source": [
    "# Z gate\n",
    "Z_circ = QuantumCircuit(q,c) \n",
    "Z_circ.z(q[0])\n",
    "\n",
    "Z_circ.draw()"
   ]
  },
  {
   "cell_type": "code",
   "execution_count": 19,
   "metadata": {},
   "outputs": [
    {
     "data": {
      "text/html": [
       "<pre style=\"word-wrap: normal;white-space: pre;line-height: 15px;\">        ┌───┐\n",
       "q_0: |0>┤ S ├\n",
       "        └───┘\n",
       " c_0: 0 ═════\n",
       "             </pre>"
      ],
      "text/plain": [
       "<qiskit.visualization.text.TextDrawing at 0x7fd982e859e8>"
      ]
     },
     "execution_count": 19,
     "metadata": {},
     "output_type": "execute_result"
    }
   ],
   "source": [
    "# S gate\n",
    "S_circ = QuantumCircuit(q,c) \n",
    "S_circ.s(q[0])\n",
    "\n",
    "S_circ.draw()"
   ]
  },
  {
   "cell_type": "code",
   "execution_count": 20,
   "metadata": {},
   "outputs": [
    {
     "data": {
      "text/html": [
       "<pre style=\"word-wrap: normal;white-space: pre;line-height: 15px;\">        ┌─────┐\n",
       "q_0: |0>┤ Sdg ├\n",
       "        └─────┘\n",
       " c_0: 0 ═══════\n",
       "               </pre>"
      ],
      "text/plain": [
       "<qiskit.visualization.text.TextDrawing at 0x7fd982e14128>"
      ]
     },
     "execution_count": 20,
     "metadata": {},
     "output_type": "execute_result"
    }
   ],
   "source": [
    "# Sdg gate\n",
    "Sdg_circ = QuantumCircuit(q,c) \n",
    "Sdg_circ.sdg(q[0])\n",
    "\n",
    "Sdg_circ.draw()"
   ]
  },
  {
   "cell_type": "code",
   "execution_count": 21,
   "metadata": {},
   "outputs": [
    {
     "data": {
      "text/html": [
       "<pre style=\"word-wrap: normal;white-space: pre;line-height: 15px;\">        ┌───┐\n",
       "q_0: |0>┤ T ├\n",
       "        └───┘\n",
       " c_0: 0 ═════\n",
       "             </pre>"
      ],
      "text/plain": [
       "<qiskit.visualization.text.TextDrawing at 0x7fd982e14198>"
      ]
     },
     "execution_count": 21,
     "metadata": {},
     "output_type": "execute_result"
    }
   ],
   "source": [
    "# T gate\n",
    "T_circ = QuantumCircuit(q,c) \n",
    "T_circ.t(q[0])\n",
    "\n",
    "T_circ.draw()"
   ]
  },
  {
   "cell_type": "code",
   "execution_count": 22,
   "metadata": {},
   "outputs": [
    {
     "data": {
      "text/html": [
       "<pre style=\"word-wrap: normal;white-space: pre;line-height: 15px;\">        ┌─────┐\n",
       "q_0: |0>┤ Tdg ├\n",
       "        └─────┘\n",
       " c_0: 0 ═══════\n",
       "               </pre>"
      ],
      "text/plain": [
       "<qiskit.visualization.text.TextDrawing at 0x7fd982e146d8>"
      ]
     },
     "execution_count": 22,
     "metadata": {},
     "output_type": "execute_result"
    }
   ],
   "source": [
    "# Tdg gate\n",
    "Tdg_circ = QuantumCircuit(q,c) \n",
    "Tdg_circ.tdg(q[0])\n",
    "\n",
    "Tdg_circ.draw()"
   ]
  },
  {
   "cell_type": "code",
   "execution_count": 23,
   "metadata": {},
   "outputs": [
    {
     "data": {
      "text/html": [
       "<pre style=\"word-wrap: normal;white-space: pre;line-height: 15px;\">              \n",
       "q2_0: |0>──■──\n",
       "         ┌─┴─┐\n",
       "q2_1: |0>┤ H ├\n",
       "         └───┘\n",
       "  c_0: 0 ═════\n",
       "              </pre>"
      ],
      "text/plain": [
       "<qiskit.visualization.text.TextDrawing at 0x7fd982e14e80>"
      ]
     },
     "execution_count": 23,
     "metadata": {},
     "output_type": "execute_result"
    }
   ],
   "source": [
    "# cH gate\n",
    "cH_circ = QuantumCircuit(q2,c) \n",
    "cH_circ.ch(q2[0],q2[1])\n",
    "\n",
    "cH_circ.draw()"
   ]
  },
  {
   "cell_type": "code",
   "execution_count": 24,
   "metadata": {},
   "outputs": [
    {
     "data": {
      "text/html": [
       "<pre style=\"word-wrap: normal;white-space: pre;line-height: 15px;\">              \n",
       "q2_0: |0>──■──\n",
       "         ┌─┴─┐\n",
       "q2_1: |0>┤ Y ├\n",
       "         └───┘\n",
       "  c_0: 0 ═════\n",
       "              </pre>"
      ],
      "text/plain": [
       "<qiskit.visualization.text.TextDrawing at 0x7fd982e85dd8>"
      ]
     },
     "execution_count": 24,
     "metadata": {},
     "output_type": "execute_result"
    }
   ],
   "source": [
    "# cY gate\n",
    "cY_circ = QuantumCircuit(q2,c) \n",
    "cY_circ.cy(q2[0],q2[1])\n",
    "\n",
    "cY_circ.draw()"
   ]
  },
  {
   "cell_type": "code",
   "execution_count": 31,
   "metadata": {},
   "outputs": [
    {
     "data": {
      "text/html": [
       "<pre style=\"word-wrap: normal;white-space: pre;line-height: 15px;\">            \n",
       "q2_0: |0>─■─\n",
       "          │ \n",
       "q2_1: |0>─■─\n",
       "            \n",
       "  c_0: 0 ═══\n",
       "            </pre>"
      ],
      "text/plain": [
       "<qiskit.visualization.text.TextDrawing at 0x7fd982913a20>"
      ]
     },
     "execution_count": 31,
     "metadata": {},
     "output_type": "execute_result"
    }
   ],
   "source": [
    "# cZ gate\n",
    "cZ_circ = QuantumCircuit(q2,c) \n",
    "cZ_circ.cz(q2[0],q2[1])\n",
    "\n",
    "cZ_circ.draw()                ## ?"
   ]
  },
  {
   "cell_type": "code",
   "execution_count": 45,
   "metadata": {},
   "outputs": [
    {
     "data": {
      "text/html": [
       "<pre style=\"word-wrap: normal;white-space: pre;line-height: 15px;\">                       \n",
       "q2_0: |0>──────■───────\n",
       "         ┌─────┴──────┐\n",
       "q2_1: |0>┤ Rz(3.1416) ├\n",
       "         └────────────┘\n",
       "  c_0: 0 ══════════════\n",
       "                       </pre>"
      ],
      "text/plain": [
       "<qiskit.visualization.text.TextDrawing at 0x7fd9828a6710>"
      ]
     },
     "execution_count": 45,
     "metadata": {},
     "output_type": "execute_result"
    }
   ],
   "source": [
    "# cRz gate\n",
    "cRz_circ = QuantumCircuit(q2,c) \n",
    "cRz_circ.crz(np.pi,q2[0],q2[1])\n",
    "\n",
    "cRz_circ.draw()  "
   ]
  },
  {
   "cell_type": "code",
   "execution_count": 34,
   "metadata": {},
   "outputs": [
    {
     "data": {
      "text/html": [
       "<pre style=\"word-wrap: normal;white-space: pre;line-height: 15px;\">              \n",
       "q3_0: |0>──■──\n",
       "           │  \n",
       "q3_1: |0>──■──\n",
       "         ┌─┴─┐\n",
       "q3_2: |0>┤ X ├\n",
       "         └───┘\n",
       "  c_0: 0 ═════\n",
       "              </pre>"
      ],
      "text/plain": [
       "<qiskit.visualization.text.TextDrawing at 0x7fd98289e320>"
      ]
     },
     "execution_count": 34,
     "metadata": {},
     "output_type": "execute_result"
    }
   ],
   "source": [
    "# ccX gate\n",
    "ccX_circ = QuantumCircuit(q3,c) \n",
    "ccX_circ.ccx(q3[0],q3[1],q3[2])\n",
    "\n",
    "ccX_circ.draw()  "
   ]
  },
  {
   "cell_type": "code",
   "execution_count": 35,
   "metadata": {},
   "outputs": [
    {
     "data": {
      "text/html": [
       "<pre style=\"word-wrap: normal;white-space: pre;line-height: 15px;\">            \n",
       "q2_0: |0>─X─\n",
       "          │ \n",
       "q2_1: |0>─X─\n",
       "            \n",
       "  c_0: 0 ═══\n",
       "            </pre>"
      ],
      "text/plain": [
       "<qiskit.visualization.text.TextDrawing at 0x7fd98289eda0>"
      ]
     },
     "execution_count": 35,
     "metadata": {},
     "output_type": "execute_result"
    }
   ],
   "source": [
    "# SWAP gate\n",
    "SWAP_circ = QuantumCircuit(q2,c) \n",
    "SWAP_circ.swap(q2[0],q2[1])\n",
    "\n",
    "SWAP_circ.draw()"
   ]
  },
  {
   "cell_type": "code",
   "execution_count": 36,
   "metadata": {},
   "outputs": [
    {
     "data": {
      "text/html": [
       "<pre style=\"word-wrap: normal;white-space: pre;line-height: 15px;\">         ░ \n",
       "q_0: |0>─░─\n",
       "         ░ \n",
       " c_0: 0 ═══\n",
       "           </pre>"
      ],
      "text/plain": [
       "<qiskit.visualization.text.TextDrawing at 0x7fd98289e2b0>"
      ]
     },
     "execution_count": 36,
     "metadata": {},
     "output_type": "execute_result"
    }
   ],
   "source": [
    "# Barrier operation\n",
    "Barrier_circ = QuantumCircuit(q,c) \n",
    "Barrier_circ.barrier(q)\n",
    "\n",
    "Barrier_circ.draw()"
   ]
  },
  {
   "cell_type": "code",
   "execution_count": 37,
   "metadata": {},
   "outputs": [
    {
     "data": {
      "text/html": [
       "<pre style=\"word-wrap: normal;white-space: pre;line-height: 15px;\">             \n",
       "q_0: |0>─|0>─\n",
       "             \n",
       " c_0: 0 ═════\n",
       "             </pre>"
      ],
      "text/plain": [
       "<qiskit.visualization.text.TextDrawing at 0x7fd98289e828>"
      ]
     },
     "execution_count": 37,
     "metadata": {},
     "output_type": "execute_result"
    }
   ],
   "source": [
    "# |0> operation\n",
    "Reset_circ = QuantumCircuit(q,c) \n",
    "Reset_circ.reset(q)\n",
    "\n",
    "Reset_circ.draw()"
   ]
  },
  {
   "cell_type": "code",
   "execution_count": 39,
   "metadata": {},
   "outputs": [
    {
     "data": {
      "text/html": [
       "<pre style=\"word-wrap: normal;white-space: pre;line-height: 15px;\">         ┌───┐ \n",
       "q_0: |0>─┤ X ├─\n",
       "        ┌┴─┴─┴┐\n",
       " c_0: 0 ╡ = 0 ╞\n",
       "        └─────┘</pre>"
      ],
      "text/plain": [
       "<qiskit.visualization.text.TextDrawing at 0x7fd982913dd8>"
      ]
     },
     "execution_count": 39,
     "metadata": {},
     "output_type": "execute_result"
    }
   ],
   "source": [
    "# IF operation\n",
    "IF_circ = QuantumCircuit(q,c) \n",
    "IF_circ.x(q[0]).c_if(c,0)\n",
    "\n",
    "IF_circ.draw()"
   ]
  },
  {
   "cell_type": "code",
   "execution_count": 41,
   "metadata": {},
   "outputs": [
    {
     "data": {
      "text/html": [
       "<pre style=\"word-wrap: normal;white-space: pre;line-height: 15px;\">        ┌─┐\n",
       "q_0: |0>┤M├\n",
       "        └╥┘\n",
       " c_0: 0 ═╩═\n",
       "           </pre>"
      ],
      "text/plain": [
       "<qiskit.visualization.text.TextDrawing at 0x7fd98289e9b0>"
      ]
     },
     "execution_count": 41,
     "metadata": {},
     "output_type": "execute_result"
    }
   ],
   "source": [
    "# z measurement\n",
    "z_measurement_circ = QuantumCircuit(q,c) \n",
    "z_measurement_circ.measure(q[0],c[0])\n",
    "\n",
    "z_measurement_circ.draw()"
   ]
  }
 ],
 "metadata": {
  "kernelspec": {
   "display_name": "Python 3",
   "language": "python",
   "name": "python3"
  },
  "language_info": {
   "codemirror_mode": {
    "name": "ipython",
    "version": 3
   },
   "file_extension": ".py",
   "mimetype": "text/x-python",
   "name": "python",
   "nbconvert_exporter": "python",
   "pygments_lexer": "ipython3",
   "version": "3.7.3"
  }
 },
 "nbformat": 4,
 "nbformat_minor": 2
}
